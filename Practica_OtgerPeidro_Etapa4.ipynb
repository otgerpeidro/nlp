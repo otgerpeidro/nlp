{
 "cells": [
  {
   "cell_type": "markdown",
   "metadata": {},
   "source": [
    "### **Función de Preprocesado de Texto**"
   ]
  },
  {
   "cell_type": "markdown",
   "metadata": {},
   "source": [
    "clean_text: Limpia el texto eliminando signos de puntuación y convirtiendo todo a minúsculas para uniformidad.\n",
    "tokenize_text: Convierte el texto limpio en tokens (palabras individuales) utilizando la tokenización de NLTK.\n",
    "remove_stopwords: Elimina las palabras comunes que suelen ser poco informativas para los modelos de NLP.\n",
    "lemmatize_words: Reduce las palabras a su forma base o lema, lo que ayuda a consolidar diferentes formas de una palabra para que sean tratadas como una sola entidad.\n",
    "preprocess_text: Integra todas las funciones anteriores en una secuencia de operaciones que prepara el texto completamente."
   ]
  },
  {
   "cell_type": "code",
   "execution_count": 1,
   "metadata": {},
   "outputs": [
    {
     "name": "stderr",
     "output_type": "stream",
     "text": [
      "[nltk_data] Downloading package punkt to\n",
      "[nltk_data]     /Users/otgerpeidro/nltk_data...\n",
      "[nltk_data]   Package punkt is already up-to-date!\n",
      "[nltk_data] Downloading package stopwords to\n",
      "[nltk_data]     /Users/otgerpeidro/nltk_data...\n",
      "[nltk_data]   Package stopwords is already up-to-date!\n",
      "[nltk_data] Downloading package wordnet to\n",
      "[nltk_data]     /Users/otgerpeidro/nltk_data...\n",
      "[nltk_data]   Package wordnet is already up-to-date!\n"
     ]
    }
   ],
   "source": [
    "import re\n",
    "import string\n",
    "from nltk.corpus import stopwords\n",
    "from nltk.tokenize import word_tokenize\n",
    "from nltk.stem import WordNetLemmatizer\n",
    "import nltk\n",
    "\n",
    "# Descargar recursos necesarios de NLTK\n",
    "nltk.download('punkt')\n",
    "nltk.download('stopwords')\n",
    "nltk.download('wordnet')\n",
    "\n",
    "def clean_text(text):\n",
    "    \"\"\"Limpiar el texto removiendo puntuación y convirtiendo el texto a minúsculas.\"\"\"\n",
    "    # Convertir a minúsculas\n",
    "    text = text.lower()\n",
    "    # Eliminar puntuación\n",
    "    text = re.sub(r'[^\\w\\s]', '', text)\n",
    "    return text\n",
    "\n",
    "def tokenize_text(text):\n",
    "    \"\"\"Tokenizar el texto en palabras individuales.\"\"\"\n",
    "    return word_tokenize(text)\n",
    "\n",
    "def remove_stopwords(tokens):\n",
    "    \"\"\"Eliminar stopwords del texto tokenizado.\"\"\"\n",
    "    stop_words = set(stopwords.words('english'))\n",
    "    filtered_tokens = [token for token in tokens if token not in stop_words]\n",
    "    return filtered_tokens\n",
    "\n",
    "def lemmatize_words(tokens):\n",
    "    \"\"\"Aplicar lematización a los tokens para reducirlos a su forma base o de lema.\"\"\"\n",
    "    lemmatizer = WordNetLemmatizer()\n",
    "    lemmatized_tokens = [lemmatizer.lemmatize(token) for token in tokens]\n",
    "    return lemmatized_tokens\n",
    "\n",
    "def preprocess_text(text):\n",
    "    \"\"\"Función completa de preprocesamiento que integra todos los pasos.\"\"\"\n",
    "    text = clean_text(text)\n",
    "    tokens = tokenize_text(text)\n",
    "    tokens = remove_stopwords(tokens)\n",
    "    lemmatized_tokens = lemmatize_words(tokens)\n",
    "    # Unir los tokens en una cadena para análisis posterior\n",
    "    preprocessed_text = ' '.join(lemmatized_tokens)\n",
    "    return preprocessed_text\n",
    "\n"
   ]
  },
  {
   "cell_type": "code",
   "execution_count": 2,
   "metadata": {},
   "outputs": [
    {
     "name": "stderr",
     "output_type": "stream",
     "text": [
      "[nltk_data] Downloading package punkt to\n",
      "[nltk_data]     /Users/otgerpeidro/nltk_data...\n",
      "[nltk_data]   Package punkt is already up-to-date!\n",
      "[nltk_data] Downloading package stopwords to\n",
      "[nltk_data]     /Users/otgerpeidro/nltk_data...\n",
      "[nltk_data]   Package stopwords is already up-to-date!\n",
      "[nltk_data] Downloading package wordnet to\n",
      "[nltk_data]     /Users/otgerpeidro/nltk_data...\n",
      "[nltk_data]   Package wordnet is already up-to-date!\n"
     ]
    },
    {
     "data": {
      "text/plain": [
       "True"
      ]
     },
     "execution_count": 2,
     "metadata": {},
     "output_type": "execute_result"
    }
   ],
   "source": [
    "import nltk\n",
    "nltk.download('punkt')\n",
    "nltk.download('stopwords')\n",
    "nltk.download('wordnet')"
   ]
  },
  {
   "cell_type": "markdown",
   "metadata": {},
   "source": [
    "**Descargar los Datasets**"
   ]
  },
  {
   "cell_type": "markdown",
   "metadata": {},
   "source": [
    "Descargamos de nuevo los datasets ya que estamos en otro notebook"
   ]
  },
  {
   "cell_type": "code",
   "execution_count": 3,
   "metadata": {},
   "outputs": [],
   "source": [
    "import requests\n",
    "\n",
    "def download_file(url, filename):\n",
    "    response = requests.get(url)\n",
    "    with open(filename, 'wb') as f:\n",
    "        f.write(response.content)\n",
    "\n",
    "download_file(\"https://datarepo.eng.ucsd.edu/mcauley_group/data/amazon_2023/raw/review_categories/Software.jsonl.gz\", \"Software.jsonl.gz\")\n",
    "download_file(\"https://datarepo.eng.ucsd.edu/mcauley_group/data/amazon_2023/raw/review_categories/Digital_Music.jsonl.gz\", \"Digital_Music.jsonl.gz\")"
   ]
  },
  {
   "cell_type": "markdown",
   "metadata": {},
   "source": [
    "**Funciones para Cargar y Preprocesar Datos**"
   ]
  },
  {
   "cell_type": "code",
   "execution_count": 4,
   "metadata": {},
   "outputs": [],
   "source": [
    "import gzip\n",
    "import json\n",
    "import pandas as pd\n",
    "\n",
    "def load_data(file_name, n_rows=1000):\n",
    "    data = []\n",
    "    with gzip.open(file_name, 'rt', encoding='utf-8') as f:\n",
    "        for i, line in enumerate(f):\n",
    "            if i >= n_rows:\n",
    "                break\n",
    "            data.append(json.loads(line))\n",
    "    return pd.DataFrame(data)\n",
    "\n",
    "software_data = load_data('Software.jsonl.gz', 1000)\n",
    "digital_music_data = load_data('Digital_Music.jsonl.gz', 1000)"
   ]
  },
  {
   "cell_type": "code",
   "execution_count": 5,
   "metadata": {},
   "outputs": [],
   "source": [
    "# Aplicar el preprocesamiento\n",
    "software_data['preprocessed_text'] = software_data['text'].apply(preprocess_text)\n",
    "digital_music_data['preprocessed_text'] = digital_music_data['text'].apply(preprocess_text)"
   ]
  },
  {
   "cell_type": "code",
   "execution_count": 7,
   "metadata": {},
   "outputs": [
    {
     "name": "stdout",
     "output_type": "stream",
     "text": [
      "                                                text  \\\n",
      "0                                 mcaffee IS malware   \n",
      "1  I love playing tapped out because it is fun to...   \n",
      "2  I love this flashlight app!  It really illumin...   \n",
      "3                           One of my favorite games   \n",
      "4  Cute game. I am not that good at it but my kid...   \n",
      "\n",
      "                                   preprocessed_text  \n",
      "0                                    mcaffee malware  \n",
      "1  love playing tapped fun watch town grow earnin...  \n",
      "2  love flashlight app really illuminates dark co...  \n",
      "3                                  one favorite game  \n",
      "4               cute game good kid love nik wallenda  \n",
      "                                                text  \\\n",
      "0  If i had a dollar for how many times I have pl...   \n",
      "1  awesome sound - cant wait to see them in perso...   \n",
      "2  This is a great cd. Good music and plays well....   \n",
      "3  These are not real German singers, they have a...   \n",
      "4  I first heard this playing in a Nagoya shop an...   \n",
      "\n",
      "                                   preprocessed_text  \n",
      "0  dollar many time played cd many time asked ale...  \n",
      "1  awesome sound cant wait see person always miss...  \n",
      "2  great cd good music play well seller responded...  \n",
      "3  real german singer accent nothing advertised m...  \n",
      "4  first heard playing nagoya shop fell love remi...  \n"
     ]
    }
   ],
   "source": [
    "# Mostrar algunos resultados\n",
    "print(software_data[['text', 'preprocessed_text']].head())\n",
    "print(digital_music_data[['text', 'preprocessed_text']].head())"
   ]
  },
  {
   "cell_type": "code",
   "execution_count": 8,
   "metadata": {},
   "outputs": [
    {
     "name": "stdout",
     "output_type": "stream",
     "text": [
      "Original: If i had a dollar for how many times I have played this cd and how many times I have asked Alexa to play it, I would be rich. Love this singer along with the Black Pumas. Finding a lot of new music that I like a lot on amazon. Try new things.\n",
      "Preprocesado: dollar many time played cd many time asked alexa play would rich love singer along black puma finding lot new music like lot amazon try new thing\n",
      "---\n",
      "Original: awesome sound - cant wait to see them in person - always miss them when they are in town !\n",
      "Preprocesado: awesome sound cant wait see person always miss town\n",
      "---\n",
      "Original: This is a great cd. Good music and plays well. Seller responded back very quicky and  received it within 3 days\n",
      "Preprocesado: great cd good music play well seller responded back quicky received within 3 day\n",
      "---\n",
      "Original: These are not real German singers, they have accents. It is nothing what they advertised it. Music stinks.\n",
      "Preprocesado: real german singer accent nothing advertised music stink\n",
      "---\n",
      "Original: I first heard this playing in a Nagoya shop and fell in love with the remix of Ke$ha's \"Tik Tok\" (Ke$ha and Lady Gaga are EVERYWHERE in Japan), which then morphed into several other recent pop hits. When the salesgirl handed me the CD, I was pleased to see that it actually included thirty pop songs by the likes of Lady Gaga, Usher, La Roux, Katy Perry, Black-Eyed Peas, Ke$ha, etc. I researched more after I got home, and discovered that this Japanese label (Manhattan Records) exists solely to put out rerecorded and remixed dance CDs based on recent pop hits, the key word being rerecorded. I guessed as much as I was listening to the CD in-store; several of the soundalikes do a great job, others are just so-so. It's great for workouts, though, since the tracks fade one into another with no downtime (the bad side is that if you've got in in shuffle, the beginning of the next song, which is often in a different key, is kind of an awkward fade-out when not played in sequence).\n",
      "Preprocesado: first heard playing nagoya shop fell love remix kehas tik tok keha lady gaga everywhere japan morphed several recent pop hit salesgirl handed cd pleased see actually included thirty pop song like lady gaga usher la roux katy perry blackeyed pea keha etc researched got home discovered japanese label manhattan record exists solely put rerecorded remixed dance cd based recent pop hit key word rerecorded guessed much listening cd instore several soundalikes great job others soso great workout though since track fade one another downtime bad side youve got shuffle beginning next song often different key kind awkward fadeout played sequence\n",
      "---\n"
     ]
    }
   ],
   "source": [
    "# Visualizar los cambios\n",
    "for index, row in digital_music_data.head(5).iterrows():\n",
    "    print(\"Original:\", row['text'])\n",
    "    print(\"Preprocesado:\", row['preprocessed_text'])\n",
    "    print(\"---\")\n"
   ]
  },
  {
   "cell_type": "code",
   "execution_count": 9,
   "metadata": {},
   "outputs": [
    {
     "name": "stdout",
     "output_type": "stream",
     "text": [
      "Vocabulario original: 13721\n",
      "Vocabulario después del preprocesamiento: 8240\n"
     ]
    }
   ],
   "source": [
    "# Calcular tamaño del vocabulario\n",
    "from collections import Counter\n",
    "\n",
    "def vocab_size(data):\n",
    "    all_words = ' '.join(data).split()\n",
    "    vocabulary = Counter(all_words)\n",
    "    return len(vocabulary)\n",
    "\n",
    "original_vocab_size = vocab_size(digital_music_data['text'])\n",
    "processed_vocab_size = vocab_size(digital_music_data['preprocessed_text'])\n",
    "print(\"Vocabulario original:\", original_vocab_size)\n",
    "print(\"Vocabulario después del preprocesamiento:\", processed_vocab_size)\n"
   ]
  },
  {
   "cell_type": "code",
   "execution_count": 10,
   "metadata": {},
   "outputs": [],
   "source": [
    "import pandas as pd\n",
    "from sklearn.model_selection import train_test_split\n",
    "from sklearn.feature_extraction.text import CountVectorizer\n",
    "from sklearn.linear_model import LogisticRegression\n",
    "from sklearn.tree import DecisionTreeClassifier\n",
    "from sklearn.metrics import classification_report"
   ]
  },
  {
   "cell_type": "markdown",
   "metadata": {},
   "source": [
    "**Preparación de Datos**"
   ]
  },
  {
   "cell_type": "code",
   "execution_count": 11,
   "metadata": {},
   "outputs": [
    {
     "name": "stdout",
     "output_type": "stream",
     "text": [
      "Software - Logistic Regression:\n",
      "               precision    recall  f1-score   support\n",
      "\n",
      "           0       0.59      0.41      0.48        54\n",
      "           1       0.80      0.90      0.85       146\n",
      "\n",
      "    accuracy                           0.77       200\n",
      "   macro avg       0.70      0.65      0.67       200\n",
      "weighted avg       0.75      0.77      0.75       200\n",
      "\n",
      "Software - Decision Tree:\n",
      "               precision    recall  f1-score   support\n",
      "\n",
      "           0       0.48      0.59      0.53        54\n",
      "           1       0.83      0.76      0.80       146\n",
      "\n",
      "    accuracy                           0.71       200\n",
      "   macro avg       0.66      0.68      0.66       200\n",
      "weighted avg       0.74      0.71      0.72       200\n",
      "\n"
     ]
    }
   ],
   "source": [
    "\n",
    "software_data['sentiment'] = software_data['rating'].apply(lambda x: 1 if x >= 3 else 0)\n",
    "X_train_s, X_test_s, y_train_s, y_test_s = train_test_split(software_data['preprocessed_text'], software_data['sentiment'], test_size=0.2, random_state=42)\n",
    "\n",
    "vectorizer_s = CountVectorizer(max_features=1000)\n",
    "X_train_vec_s = vectorizer_s.fit_transform(X_train_s)\n",
    "X_test_vec_s = vectorizer_s.transform(X_test_s)\n",
    "\n",
    "# Modelos\n",
    "logistic_model_s = LogisticRegression(random_state=42)\n",
    "logistic_model_s.fit(X_train_vec_s, y_train_s)\n",
    "decision_tree_model_s = DecisionTreeClassifier(random_state=42)\n",
    "decision_tree_model_s.fit(X_train_vec_s, y_train_s)\n",
    "\n",
    "# Evaluación\n",
    "y_pred_logistic_s = logistic_model_s.predict(X_test_vec_s)\n",
    "y_pred_tree_s = decision_tree_model_s.predict(X_test_vec_s)\n",
    "print(\"Software - Logistic Regression:\\n\", classification_report(y_test_s, y_pred_logistic_s))\n",
    "print(\"Software - Decision Tree:\\n\", classification_report(y_test_s, y_pred_tree_s))\n"
   ]
  },
  {
   "cell_type": "code",
   "execution_count": 12,
   "metadata": {},
   "outputs": [
    {
     "name": "stdout",
     "output_type": "stream",
     "text": [
      "Digital Music - Logistic Regression:\n",
      "               precision    recall  f1-score   support\n",
      "\n",
      "           0       0.00      0.00      0.00        10\n",
      "           1       0.95      0.99      0.97       190\n",
      "\n",
      "    accuracy                           0.94       200\n",
      "   macro avg       0.47      0.50      0.49       200\n",
      "weighted avg       0.90      0.94      0.92       200\n",
      "\n",
      "Digital Music - Decision Tree:\n",
      "               precision    recall  f1-score   support\n",
      "\n",
      "           0       0.15      0.20      0.17        10\n",
      "           1       0.96      0.94      0.95       190\n",
      "\n",
      "    accuracy                           0.91       200\n",
      "   macro avg       0.56      0.57      0.56       200\n",
      "weighted avg       0.92      0.91      0.91       200\n",
      "\n"
     ]
    }
   ],
   "source": [
    "digital_music_data['sentiment'] = digital_music_data['rating'].apply(lambda x: 1 if x >= 3 else 0)\n",
    "X_train_d, X_test_d, y_train_d, y_test_d = train_test_split(digital_music_data['preprocessed_text'], digital_music_data['sentiment'], test_size=0.2, random_state=42)\n",
    "\n",
    "vectorizer_d = CountVectorizer(max_features=1000)\n",
    "X_train_vec_d = vectorizer_d.fit_transform(X_train_d)\n",
    "X_test_vec_d = vectorizer_d.transform(X_test_d)\n",
    "\n",
    "# Modelos\n",
    "logistic_model_d = LogisticRegression(random_state=42)\n",
    "logistic_model_d.fit(X_train_vec_d, y_train_d)\n",
    "decision_tree_model_d = DecisionTreeClassifier(random_state=42)\n",
    "decision_tree_model_d.fit(X_train_vec_d, y_train_d)\n",
    "\n",
    "# Evaluación\n",
    "y_pred_logistic_d = logistic_model_d.predict(X_test_vec_d)\n",
    "y_pred_tree_d = decision_tree_model_d.predict(X_test_vec_d)\n",
    "print(\"Digital Music - Logistic Regression:\\n\", classification_report(y_test_d, y_pred_logistic_d))\n",
    "print(\"Digital Music - Decision Tree:\\n\", classification_report(y_test_d, y_pred_tree_d))\n"
   ]
  },
  {
   "cell_type": "markdown",
   "metadata": {},
   "source": [
    "**Justificación de Parámetros y Modelos**"
   ]
  },
  {
   "cell_type": "markdown",
   "metadata": {},
   "source": [
    "**CountVectorizer**:\n",
    "max_features=1000: Limitamos el número de características para manejar mejor la complejidad y el rendimiento del modelo, especialmente útil cuando manejamos grandes volúmenes de texto."
   ]
  },
  {
   "cell_type": "markdown",
   "metadata": {},
   "source": [
    "**Regresión Logística**: es un modelo lineal simple y efectivo para clasificación binaria, ideal para líneas base.<br> **Árbol de Decisión**: proporciona un modelo más complejo que puede capturar relaciones no lineales, pero puede sobreajustarse si no se configura correctamente."
   ]
  },
  {
   "cell_type": "markdown",
   "metadata": {},
   "source": [
    "Observemos los resultados:\n",
    "\n",
    "1. Digital Music - Logistic Regression:\n",
    "\n",
    "+ Precisión muy alta para la clase 1 (0.95), pero incapaz de identificar correctamente ningún caso de la clase 0 (precisión de 0.00).\n",
    "+ Puntaje F1 total muy alto (0.97 para clase 1), pero el modelo falla completamente en la clase 0.\n",
    "+ Alta precisión general (0.94), pero esto es principalmente porque la mayoría de las muestras son de la clase 1.\n",
    "\n",
    "2. Digital Music - Decision Tree:\n",
    "\n",
    "+ Mejor rendimiento general en la clasificación de ambas clases comparado con la regresión logística en el mismo conjunto de datos.\n",
    "+ Precisión moderada para la clase 0 (0.15) y alta para la clase 1 (0.96).\n",
    "+ Puntaje F1 general equilibrado (0.95 para clase 1 y 0.17 para clase 0).\n",
    "+ La precisión general es algo menor (0.91) pero con mejor equilibrio entre clases.\n",
    "\n",
    "3. Software - Logistic Regression:\n",
    "\n",
    "+ Precisión y recall equilibrados para la clase 0 comparados con el modelo de árbol de decisiones.\n",
    "+ Alto recall para la clase 1 (0.90) con buena precisión (0.80).\n",
    "+ Puntaje F1 general bueno para ambas clases y precisión general decente (0.77).\n",
    "\n",
    "4. Software - Decision Tree:\n",
    "\n",
    "+ Mejor rendimiento en recall para la clase 0 comparado con la regresión logística, pero menor precisión.\n",
    "+ Precisión y recall razonablemente equilibrados para ambas clases.\n",
    "+ Puntaje F1 y precisión general algo menores que la regresión logística.\n",
    "\n",
    "**Elección del Modelo** <br>\n",
    "Para el conjunto de datos Digital Music, el árbol de decisiones parece ser la mejor opción, ya que aunque su precisión general es ligeramente inferior a la de la regresión logística, muestra un mejor balance en la identificación de ambas clases, lo cual es crucial para un modelo útil en escenarios del mundo real donde ambas clases son importantes.\n",
    "<br>\n",
    "Para el conjunto de datos Software, la regresión logística es preferible ya que, aunque el árbol de decisiones tiene un recall ligeramente superior para la clase 0, la regresión logística proporciona una mejor precisión general y un mejor balance de precisión y recall, especialmente para la clase 1 que tiene más muestras."
   ]
  },
  {
   "cell_type": "code",
   "execution_count": 13,
   "metadata": {},
   "outputs": [],
   "source": [
    "import pandas as pd\n",
    "from sklearn.metrics import classification_report, accuracy_score, confusion_matrix"
   ]
  },
  {
   "cell_type": "markdown",
   "metadata": {},
   "source": [
    "### **Calcular Métricas de Evaluación**"
   ]
  },
  {
   "cell_type": "markdown",
   "metadata": {},
   "source": [
    "**Para Digital Music (Árbol de Decisión)**"
   ]
  },
  {
   "cell_type": "code",
   "execution_count": 14,
   "metadata": {},
   "outputs": [
    {
     "name": "stdout",
     "output_type": "stream",
     "text": [
      "Evaluación del Árbol de Decisión para Digital Music:\n",
      "              precision    recall  f1-score   support\n",
      "\n",
      "           0       0.15      0.20      0.17        10\n",
      "           1       0.96      0.94      0.95       190\n",
      "\n",
      "    accuracy                           0.91       200\n",
      "   macro avg       0.56      0.57      0.56       200\n",
      "weighted avg       0.92      0.91      0.91       200\n",
      "\n",
      "Matriz de Confusión:\n",
      " [[  2   8]\n",
      " [ 11 179]]\n",
      "Precisión General: 0.905\n"
     ]
    }
   ],
   "source": [
    "print(\"Evaluación del Árbol de Decisión para Digital Music:\")\n",
    "print(classification_report(y_test_d, y_pred_tree_d))\n",
    "\n",
    "# Calculando la matriz de confusión\n",
    "conf_matrix_d = confusion_matrix(y_test_d, y_pred_tree_d)\n",
    "print(\"Matriz de Confusión:\\n\", conf_matrix_d)\n",
    "\n",
    "# Calculando la precisión general\n",
    "accuracy_d = accuracy_score(y_test_d, y_pred_tree_d)\n",
    "print(\"Precisión General:\", accuracy_d)"
   ]
  },
  {
   "cell_type": "markdown",
   "metadata": {},
   "source": [
    "**Para Digital Music (Árbol de Decisión)**"
   ]
  },
  {
   "cell_type": "code",
   "execution_count": 15,
   "metadata": {},
   "outputs": [
    {
     "name": "stdout",
     "output_type": "stream",
     "text": [
      "Evaluación de la Regresión Logística para Software:\n",
      "              precision    recall  f1-score   support\n",
      "\n",
      "           0       0.59      0.41      0.48        54\n",
      "           1       0.80      0.90      0.85       146\n",
      "\n",
      "    accuracy                           0.77       200\n",
      "   macro avg       0.70      0.65      0.67       200\n",
      "weighted avg       0.75      0.77      0.75       200\n",
      "\n",
      "Matriz de Confusión:\n",
      " [[ 22  32]\n",
      " [ 15 131]]\n",
      "Precisión General: 0.765\n"
     ]
    }
   ],
   "source": [
    "print(\"Evaluación de la Regresión Logística para Software:\")\n",
    "print(classification_report(y_test_s, y_pred_logistic_s))\n",
    "\n",
    "# Calculando la matriz de confusión\n",
    "conf_matrix_s = confusion_matrix(y_test_s, y_pred_logistic_s)\n",
    "print(\"Matriz de Confusión:\\n\", conf_matrix_s)\n",
    "\n",
    "# Calculando la precisión general\n",
    "accuracy_s = accuracy_score(y_test_s, y_pred_logistic_s)\n",
    "print(\"Precisión General:\", accuracy_s)"
   ]
  },
  {
   "cell_type": "markdown",
   "metadata": {},
   "source": [
    "### Análisis de los Resultados\n",
    "\n",
    "#### Digital Music - Árbol de Decisión\n",
    "- **Desempeño General**: El modelo alcanza una precisión general del 90.5%, lo cual es bastante alto. Sin embargo, la efectividad del modelo varía significativamente entre las clases.\n",
    "- **Clase Minoritaria (0)**: La precisión y el recall para la clase minoritaria (0) son bastante bajos (15% de precisión y 20% de recall), lo que indica que el modelo tiene dificultades para identificar correctamente los casos negativos, aunque supera ligeramente el rendimiento del modelo de regresión logística en este aspecto.\n",
    "- **Clase Mayoritaria (1)**: El modelo muestra una alta precisión (96%) y un buen recall (94%) para la clase mayoritaria, lo que indica que es bastante efectivo para identificar los casos positivos.\n",
    "- **Matriz de Confusión**: La matriz muestra que el modelo predijo correctamente 179 de 190 casos positivos, pero sólo 2 de 10 casos negativos, reforzando la observación de que el modelo está sesgado hacia la clase mayoritaria.\n",
    "\n",
    "#### Software - Regresión Logística\n",
    "- **Desempeño General**: El modelo tiene una precisión general del 76.5%. Aunque es aceptable, hay margen de mejora, especialmente en la identificación de clases negativas.\n",
    "- **Clase Minoritaria (0)**: El modelo muestra una precisión del 59% y un recall del 41% para la clase 0, lo que sugiere una capacidad moderada para identificar críticas negativas, pero sigue siendo relativamente bajo.\n",
    "- **Clase Mayoritaria (1)**: La precisión y el recall son relativamente altos para la clase mayoritaria (80% y 90% respectivamente), lo que indica que el modelo es efectivo para identificar reseñas positivas.\n",
    "- **Matriz de Confusión**: El modelo identificó correctamente 131 de 146 casos positivos pero tuvo un desempeño menos robusto en los negativos, con 22 aciertos de 54.\n",
    "\n",
    "### Conclusiones Finales\n",
    "\n",
    "- **Equilibrio de Clases**: Ambos modelos muestran un desempeño superior en la identificación de la clase mayoritaria en comparación con la minoritaria. Esto es un reflejo común del desbalance de clases en los conjuntos de datos. Estrategias como el reequilibrio de clases, el ajuste de costos o la exploración de modelos más complejos podrían ayudar a mejorar la identificación de la clase minoritaria.\n",
    "- **Elección de Modelos**: La Regresión Logística, aunque más simple, demostró ser efectiva para el conjunto de datos de Software, proporcionando un buen equilibrio entre precisión y recall para la clase mayoritaria y un desempeño razonable para la minoritaria. El Árbol de Decisión fue más efectivo para Digital Music en términos de equilibrio general, aunque su precisión para la clase minoritaria aún necesita mejora."
   ]
  }
 ],
 "metadata": {
  "kernelspec": {
   "display_name": "nlp_final",
   "language": "python",
   "name": "python3"
  },
  "language_info": {
   "codemirror_mode": {
    "name": "ipython",
    "version": 3
   },
   "file_extension": ".py",
   "mimetype": "text/x-python",
   "name": "python",
   "nbconvert_exporter": "python",
   "pygments_lexer": "ipython3",
   "version": "3.9.19"
  }
 },
 "nbformat": 4,
 "nbformat_minor": 2
}
